{
 "cells": [
  {
   "cell_type": "code",
   "execution_count": 28,
   "id": "initial_id",
   "metadata": {
    "collapsed": true,
    "ExecuteTime": {
     "end_time": "2024-05-29T15:23:36.449887Z",
     "start_time": "2024-05-29T15:23:34.848992800Z"
    }
   },
   "outputs": [],
   "source": [
    "from utils import get_feature_vec\n",
    "from autogluon.core import TabularDataset\n",
    "from autogluon.tabular import TabularPredictor\n",
    "import pandas as pd\n",
    "\n",
    "predictor = TabularPredictor.load('AutogluonModels/production')\n",
    "test_data = TabularDataset(\"data/tier2_features.csv\")\n",
    "winrates = pd.read_json(\"data/winrates.json\")\n",
    "\n",
    "ext = predictor.predict_proba(test_data, model='ExtraTrees_r49_BAG_L1')[:][1]\n",
    "rf = predictor.predict_proba(test_data, model='RandomForest_r16_BAG_L1')[:][1]\n",
    "simple = [0.5 + (sum(test_data.iloc[i][40:81])/40 - sum(test_data.iloc[i][:40]) /40) for i in range(len(test_data))]"
   ]
  },
  {
   "cell_type": "code",
   "execution_count": 29,
   "outputs": [
    {
     "data": {
      "text/plain": "            ext        rf   simple  Label\n0      0.520000  0.463333  0.49975      0\n1      0.566667  0.546667  0.54325      1\n2      0.406667  0.330000  0.46750      0\n3      0.513333  0.603333  0.50750      0\n4      0.646667  0.620000  0.52825      0\n...         ...       ...      ...    ...\n11349  0.343333  0.366667  0.49950      1\n11350  0.323333  0.380000  0.47850      1\n11351  0.543333  0.600000  0.51725      0\n11352  0.260000  0.170000  0.42925      0\n11353  0.376667  0.310000  0.48250      0\n\n[11354 rows x 4 columns]",
      "text/html": "<div>\n<style scoped>\n    .dataframe tbody tr th:only-of-type {\n        vertical-align: middle;\n    }\n\n    .dataframe tbody tr th {\n        vertical-align: top;\n    }\n\n    .dataframe thead th {\n        text-align: right;\n    }\n</style>\n<table border=\"1\" class=\"dataframe\">\n  <thead>\n    <tr style=\"text-align: right;\">\n      <th></th>\n      <th>ext</th>\n      <th>rf</th>\n      <th>simple</th>\n      <th>Label</th>\n    </tr>\n  </thead>\n  <tbody>\n    <tr>\n      <th>0</th>\n      <td>0.520000</td>\n      <td>0.463333</td>\n      <td>0.49975</td>\n      <td>0</td>\n    </tr>\n    <tr>\n      <th>1</th>\n      <td>0.566667</td>\n      <td>0.546667</td>\n      <td>0.54325</td>\n      <td>1</td>\n    </tr>\n    <tr>\n      <th>2</th>\n      <td>0.406667</td>\n      <td>0.330000</td>\n      <td>0.46750</td>\n      <td>0</td>\n    </tr>\n    <tr>\n      <th>3</th>\n      <td>0.513333</td>\n      <td>0.603333</td>\n      <td>0.50750</td>\n      <td>0</td>\n    </tr>\n    <tr>\n      <th>4</th>\n      <td>0.646667</td>\n      <td>0.620000</td>\n      <td>0.52825</td>\n      <td>0</td>\n    </tr>\n    <tr>\n      <th>...</th>\n      <td>...</td>\n      <td>...</td>\n      <td>...</td>\n      <td>...</td>\n    </tr>\n    <tr>\n      <th>11349</th>\n      <td>0.343333</td>\n      <td>0.366667</td>\n      <td>0.49950</td>\n      <td>1</td>\n    </tr>\n    <tr>\n      <th>11350</th>\n      <td>0.323333</td>\n      <td>0.380000</td>\n      <td>0.47850</td>\n      <td>1</td>\n    </tr>\n    <tr>\n      <th>11351</th>\n      <td>0.543333</td>\n      <td>0.600000</td>\n      <td>0.51725</td>\n      <td>0</td>\n    </tr>\n    <tr>\n      <th>11352</th>\n      <td>0.260000</td>\n      <td>0.170000</td>\n      <td>0.42925</td>\n      <td>0</td>\n    </tr>\n    <tr>\n      <th>11353</th>\n      <td>0.376667</td>\n      <td>0.310000</td>\n      <td>0.48250</td>\n      <td>0</td>\n    </tr>\n  </tbody>\n</table>\n<p>11354 rows × 4 columns</p>\n</div>"
     },
     "execution_count": 29,
     "metadata": {},
     "output_type": "execute_result"
    }
   ],
   "source": [
    "eval = pd.DataFrame()\n",
    "\n",
    "eval['ext'] = ext\n",
    "eval['rf'] = rf\n",
    "eval['simple'] = simple\n",
    "\n",
    "eval['Label'] = test_data['Label']\n",
    "eval"
   ],
   "metadata": {
    "collapsed": false,
    "ExecuteTime": {
     "end_time": "2024-05-29T15:23:37.041864500Z",
     "start_time": "2024-05-29T15:23:37.024567100Z"
    }
   },
   "id": "7fdb14d036690a02"
  },
  {
   "cell_type": "code",
   "execution_count": 30,
   "outputs": [],
   "source": [
    "eval.to_csv('prod_eval.csv', index=False)"
   ],
   "metadata": {
    "collapsed": false,
    "ExecuteTime": {
     "end_time": "2024-05-29T15:23:50.677205500Z",
     "start_time": "2024-05-29T15:23:50.643886500Z"
    }
   },
   "id": "a5a7e1d005fd7a31"
  },
  {
   "cell_type": "code",
   "execution_count": 31,
   "outputs": [
    {
     "data": {
      "text/plain": "                                               dire_pick  \\\n0      [Anti-Mage, Ember Spirit, Batrider, Mirana, Wi...   \n1      [Medusa, Ember Spirit, Beastmaster, Elder Tita...   \n2      [Medusa, Pangolier, Beastmaster, Techies, Ench...   \n3      [Anti-Mage, Magnus, Batrider, Silencer, Windra...   \n4      [Bloodseeker, Death Prophet, Magnus, Skywrath ...   \n...                                                  ...   \n12093    [Medusa, Tiny, Beastmaster, Disruptor, Undying]   \n12094  [Monkey King, Pangolier, Magnus, Skywrath Mage...   \n12095  [Bloodseeker, Void Spirit, Winter Wyvern, Rubi...   \n12096  [Faceless Void, Snapfire, Beastmaster, Rubick,...   \n12097  [Anti-Mage, Ember Spirit, Batrider, Mirana, Wi...   \n\n                                            radiant_pick  Label  \n0      [Medusa, Lone Druid, Earthshaker, Shadow Demon...      1  \n1      [Juggernaut, Keeper of the Light, Doom, Shadow...      1  \n2        [Anti-Mage, Windranger, Batrider, Pugna, Slark]      1  \n3      [Morphling, Storm Spirit, Legion Commander, Pu...      0  \n4      [Luna, Void Spirit, Spirit Breaker, Techies, V...      0  \n...                                                  ...    ...  \n12093  [Terrorblade, Void Spirit, Magnus, Bounty Hunt...      0  \n12094  [Windranger, Void Spirit, Timbersaw, Winter Wy...      1  \n12095     [Juggernaut, Marci, Visage, Techies, Silencer]      1  \n12096  [Bloodseeker, Void Spirit, Abaddon, Techies, P...      0  \n12097  [Medusa, Lone Druid, Earthshaker, Shadow Demon...      1  \n\n[12098 rows x 3 columns]",
      "text/html": "<div>\n<style scoped>\n    .dataframe tbody tr th:only-of-type {\n        vertical-align: middle;\n    }\n\n    .dataframe tbody tr th {\n        vertical-align: top;\n    }\n\n    .dataframe thead th {\n        text-align: right;\n    }\n</style>\n<table border=\"1\" class=\"dataframe\">\n  <thead>\n    <tr style=\"text-align: right;\">\n      <th></th>\n      <th>dire_pick</th>\n      <th>radiant_pick</th>\n      <th>Label</th>\n    </tr>\n  </thead>\n  <tbody>\n    <tr>\n      <th>0</th>\n      <td>[Anti-Mage, Ember Spirit, Batrider, Mirana, Wi...</td>\n      <td>[Medusa, Lone Druid, Earthshaker, Shadow Demon...</td>\n      <td>1</td>\n    </tr>\n    <tr>\n      <th>1</th>\n      <td>[Medusa, Ember Spirit, Beastmaster, Elder Tita...</td>\n      <td>[Juggernaut, Keeper of the Light, Doom, Shadow...</td>\n      <td>1</td>\n    </tr>\n    <tr>\n      <th>2</th>\n      <td>[Medusa, Pangolier, Beastmaster, Techies, Ench...</td>\n      <td>[Anti-Mage, Windranger, Batrider, Pugna, Slark]</td>\n      <td>1</td>\n    </tr>\n    <tr>\n      <th>3</th>\n      <td>[Anti-Mage, Magnus, Batrider, Silencer, Windra...</td>\n      <td>[Morphling, Storm Spirit, Legion Commander, Pu...</td>\n      <td>0</td>\n    </tr>\n    <tr>\n      <th>4</th>\n      <td>[Bloodseeker, Death Prophet, Magnus, Skywrath ...</td>\n      <td>[Luna, Void Spirit, Spirit Breaker, Techies, V...</td>\n      <td>0</td>\n    </tr>\n    <tr>\n      <th>...</th>\n      <td>...</td>\n      <td>...</td>\n      <td>...</td>\n    </tr>\n    <tr>\n      <th>12093</th>\n      <td>[Medusa, Tiny, Beastmaster, Disruptor, Undying]</td>\n      <td>[Terrorblade, Void Spirit, Magnus, Bounty Hunt...</td>\n      <td>0</td>\n    </tr>\n    <tr>\n      <th>12094</th>\n      <td>[Monkey King, Pangolier, Magnus, Skywrath Mage...</td>\n      <td>[Windranger, Void Spirit, Timbersaw, Winter Wy...</td>\n      <td>1</td>\n    </tr>\n    <tr>\n      <th>12095</th>\n      <td>[Bloodseeker, Void Spirit, Winter Wyvern, Rubi...</td>\n      <td>[Juggernaut, Marci, Visage, Techies, Silencer]</td>\n      <td>1</td>\n    </tr>\n    <tr>\n      <th>12096</th>\n      <td>[Faceless Void, Snapfire, Beastmaster, Rubick,...</td>\n      <td>[Bloodseeker, Void Spirit, Abaddon, Techies, P...</td>\n      <td>0</td>\n    </tr>\n    <tr>\n      <th>12097</th>\n      <td>[Anti-Mage, Ember Spirit, Batrider, Mirana, Wi...</td>\n      <td>[Medusa, Lone Druid, Earthshaker, Shadow Demon...</td>\n      <td>1</td>\n    </tr>\n  </tbody>\n</table>\n<p>12098 rows × 3 columns</p>\n</div>"
     },
     "execution_count": 31,
     "metadata": {},
     "output_type": "execute_result"
    }
   ],
   "source": [
    "df = pd.read_pickle('data/tier1.pkl')\n",
    "df"
   ],
   "metadata": {
    "collapsed": false,
    "ExecuteTime": {
     "end_time": "2024-05-29T17:19:14.136377700Z",
     "start_time": "2024-05-29T17:19:14.095018900Z"
    }
   },
   "id": "415b331a90ff9f87"
  },
  {
   "cell_type": "code",
   "execution_count": 3,
   "outputs": [
    {
     "data": {
      "text/plain": "{'predicted_winrate': 0.528,\n 'unpredicted_winrate': 0.454,\n 'predicted_side': 'radiant',\n 'unpredicted_side': 'dire',\n 'model_pred': 0.653333306312561}"
     },
     "execution_count": 3,
     "metadata": {},
     "output_type": "execute_result"
    }
   ],
   "source": [
    "from feedbacks import get_feedback_prediction\n",
    "import pandas as pd\n",
    "\n",
    "winrates = pd.read_json('data/winrates.json')\n",
    "\n",
    "rf_feedback = pd.read_json('rf_stat.json')\n",
    "ext_feedback = pd.read_json('extra_tree_stat.json')\n",
    "\n",
    "get_feedback_prediction(winrates, ext_feedback, ['Ursa', 'Storm Spirit', 'Centaur Warrunner', 'Snapfire', 'Phoenix'], ['Sven', 'Leshrac', 'Dark Seer', 'Rubick', 'Oracle'], 'ExtraTrees_r49_BAG_L1')"
   ],
   "metadata": {
    "collapsed": false,
    "ExecuteTime": {
     "end_time": "2024-05-30T15:07:43.973407500Z",
     "start_time": "2024-05-30T15:07:43.780220800Z"
    }
   },
   "id": "38c0cf8be4d4ac88"
  },
  {
   "cell_type": "code",
   "execution_count": 4,
   "outputs": [
    {
     "data": {
      "text/plain": "{'predicted_winrate': 0.53,\n 'unpredicted_winrate': 0.444,\n 'predicted_side': 'radiant',\n 'unpredicted_side': 'dire',\n 'model_pred': 0.8333333134651184}"
     },
     "execution_count": 4,
     "metadata": {},
     "output_type": "execute_result"
    }
   ],
   "source": [
    "get_feedback_prediction(winrates, rf_feedback, ['Ursa', 'Storm Spirit', 'Centaur Warrunner', 'Snapfire', 'Phoenix'], ['Sven', 'Leshrac', 'Dark Seer', 'Rubick', 'Oracle'], 'RandomForest_r16_BAG_L1')"
   ],
   "metadata": {
    "collapsed": false,
    "ExecuteTime": {
     "end_time": "2024-05-30T15:07:45.130192600Z",
     "start_time": "2024-05-30T15:07:45.033124300Z"
    }
   },
   "id": "c8c5b533f82da490"
  },
  {
   "cell_type": "code",
   "execution_count": 1,
   "outputs": [
    {
     "data": {
      "text/plain": "{'predicted_side': 'radiant',\n 'predicted_pick': ['Sven', 'Leshrac', 'Dark Seer', 'Rubick', 'Oracle'],\n 'predicted_winrate': 0.529,\n 'unpredicted_winrate': 0.449,\n 'model_pred': 0.7433333098888397}"
     },
     "execution_count": 1,
     "metadata": {},
     "output_type": "execute_result"
    }
   ],
   "source": [
    "from utils import predict_dict\n",
    "\n",
    "predict_dict(['Ursa', 'Storm Spirit', 'Centaur Warrunner', 'Snapfire', 'Phoenix'], ['Sven', 'Leshrac', 'Dark Seer', 'Rubick', 'Oracle'])"
   ],
   "metadata": {
    "collapsed": false,
    "ExecuteTime": {
     "end_time": "2024-05-30T15:07:33.002130600Z",
     "start_time": "2024-05-30T15:07:31.214857700Z"
    }
   },
   "id": "7f1be0d253ba78fd"
  },
  {
   "cell_type": "code",
   "execution_count": 1,
   "outputs": [
    {
     "name": "stdout",
     "output_type": "stream",
     "text": [
      "{'pick': 'unpredicted', 'side': 'unpredicted'}\n"
     ]
    }
   ],
   "source": [
    "from utils import predict\n",
    "\n",
    "print(predict(['Ursa', 'Storm Spirit', 'Centaur Warrunner', 'Snapfire', 'Phoenix'], ['Sven', 'Leshrac', 'Dark Seer', 'Rubick', 'Oracle']))"
   ],
   "metadata": {
    "collapsed": false,
    "ExecuteTime": {
     "end_time": "2024-05-30T15:12:28.580715700Z",
     "start_time": "2024-05-30T15:12:26.935608200Z"
    }
   },
   "id": "c8aa2f0f5c0dbd20"
  }
 ],
 "metadata": {
  "kernelspec": {
   "display_name": "Python 3",
   "language": "python",
   "name": "python3"
  },
  "language_info": {
   "codemirror_mode": {
    "name": "ipython",
    "version": 2
   },
   "file_extension": ".py",
   "mimetype": "text/x-python",
   "name": "python",
   "nbconvert_exporter": "python",
   "pygments_lexer": "ipython2",
   "version": "2.7.6"
  }
 },
 "nbformat": 4,
 "nbformat_minor": 5
}
