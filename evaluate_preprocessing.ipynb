{
 "cells": [
  {
   "cell_type": "code",
   "execution_count": 8,
   "id": "initial_id",
   "metadata": {
    "collapsed": true,
    "ExecuteTime": {
     "end_time": "2024-05-24T06:46:04.418959900Z",
     "start_time": "2024-05-24T06:46:04.393834600Z"
    }
   },
   "outputs": [
    {
     "data": {
      "text/plain": "              TOURNAMENT    TEAM_0_NAME  \\\n0  DreamLeague Season 20            TSM   \n1  DreamLeague Season 20            TSM   \n2  DreamLeague Season 20    Team Liquid   \n3  DreamLeague Season 20  Talon Esports   \n4  DreamLeague Season 20  Evil Geniuses   \n\n                                       TEAM_0_HEROES TEAM_0_SIDE  TEAM_0_WIN  \\\n0  ['Anti-Mage', 'Ember Spirit', 'Batrider', 'Mir...        dire           0   \n1  ['Medusa', 'Windranger', 'Beastmaster', 'Elder...        dire           0   \n2  ['Medusa', 'Pangolier', 'Beastmaster', 'Techie...        dire           0   \n3  ['Anti-Mage', 'Windranger', 'Magnus', 'Silence...        dire           1   \n4  ['Bloodseeker', 'Death Prophet', 'Magnus', 'Sk...        dire           1   \n\n     TEAM_1_NAME                                      TEAM_1_HEROES  \\\n0    Team Liquid  ['Lone Druid', 'Medusa', 'Earthshaker', 'Clock...   \n1    Team Liquid  ['Juggernaut', 'Keeper of the Light', 'Doom', ...   \n2  Talon Esports  ['Anti-Mage', 'Windranger', 'Batrider', 'Pugna...   \n3    Team Liquid  ['Morphling', 'Storm Spirit', 'Legion Commande...   \n4    Team Liquid  ['Luna', 'Void Spirit', 'Visage', 'Spirit Brea...   \n\n  TEAM_1_SIDE  TEAM_1_WIN  \n0     radiant           1  \n1     radiant           1  \n2     radiant           1  \n3     radiant           0  \n4     radiant           0  ",
      "text/html": "<div>\n<style scoped>\n    .dataframe tbody tr th:only-of-type {\n        vertical-align: middle;\n    }\n\n    .dataframe tbody tr th {\n        vertical-align: top;\n    }\n\n    .dataframe thead th {\n        text-align: right;\n    }\n</style>\n<table border=\"1\" class=\"dataframe\">\n  <thead>\n    <tr style=\"text-align: right;\">\n      <th></th>\n      <th>TOURNAMENT</th>\n      <th>TEAM_0_NAME</th>\n      <th>TEAM_0_HEROES</th>\n      <th>TEAM_0_SIDE</th>\n      <th>TEAM_0_WIN</th>\n      <th>TEAM_1_NAME</th>\n      <th>TEAM_1_HEROES</th>\n      <th>TEAM_1_SIDE</th>\n      <th>TEAM_1_WIN</th>\n    </tr>\n  </thead>\n  <tbody>\n    <tr>\n      <th>0</th>\n      <td>DreamLeague Season 20</td>\n      <td>TSM</td>\n      <td>['Anti-Mage', 'Ember Spirit', 'Batrider', 'Mir...</td>\n      <td>dire</td>\n      <td>0</td>\n      <td>Team Liquid</td>\n      <td>['Lone Druid', 'Medusa', 'Earthshaker', 'Clock...</td>\n      <td>radiant</td>\n      <td>1</td>\n    </tr>\n    <tr>\n      <th>1</th>\n      <td>DreamLeague Season 20</td>\n      <td>TSM</td>\n      <td>['Medusa', 'Windranger', 'Beastmaster', 'Elder...</td>\n      <td>dire</td>\n      <td>0</td>\n      <td>Team Liquid</td>\n      <td>['Juggernaut', 'Keeper of the Light', 'Doom', ...</td>\n      <td>radiant</td>\n      <td>1</td>\n    </tr>\n    <tr>\n      <th>2</th>\n      <td>DreamLeague Season 20</td>\n      <td>Team Liquid</td>\n      <td>['Medusa', 'Pangolier', 'Beastmaster', 'Techie...</td>\n      <td>dire</td>\n      <td>0</td>\n      <td>Talon Esports</td>\n      <td>['Anti-Mage', 'Windranger', 'Batrider', 'Pugna...</td>\n      <td>radiant</td>\n      <td>1</td>\n    </tr>\n    <tr>\n      <th>3</th>\n      <td>DreamLeague Season 20</td>\n      <td>Talon Esports</td>\n      <td>['Anti-Mage', 'Windranger', 'Magnus', 'Silence...</td>\n      <td>dire</td>\n      <td>1</td>\n      <td>Team Liquid</td>\n      <td>['Morphling', 'Storm Spirit', 'Legion Commande...</td>\n      <td>radiant</td>\n      <td>0</td>\n    </tr>\n    <tr>\n      <th>4</th>\n      <td>DreamLeague Season 20</td>\n      <td>Evil Geniuses</td>\n      <td>['Bloodseeker', 'Death Prophet', 'Magnus', 'Sk...</td>\n      <td>dire</td>\n      <td>1</td>\n      <td>Team Liquid</td>\n      <td>['Luna', 'Void Spirit', 'Visage', 'Spirit Brea...</td>\n      <td>radiant</td>\n      <td>0</td>\n    </tr>\n  </tbody>\n</table>\n</div>"
     },
     "execution_count": 8,
     "metadata": {},
     "output_type": "execute_result"
    }
   ],
   "source": [
    "import pandas as pd\n",
    "\n",
    "data = pd.read_csv('test_df.csv')\n",
    "data.drop(['Unnamed: 0'], axis=1, inplace=True)\n",
    "data.head()"
   ]
  },
  {
   "cell_type": "code",
   "execution_count": 29,
   "outputs": [],
   "source": [
    "from utils import *\n",
    "\n",
    "X_test = data.drop(['TEAM_1_WIN'], axis=1)\n",
    "\n",
    "eval_df = pd.DataFrame()\n",
    "\n",
    "def pick(pick_str: str):\n",
    "    pick_str = pick_str[1:-1]\n",
    "    pick_str = pick_str.replace(\"'\", \"\")\n",
    "    temp: list = pick_str.split(\", \")\n",
    "    if 'Natures Prophet' in temp:\n",
    "        print(temp)\n",
    "        temp.remove('Natures Prophet')\n",
    "        temp.append(\"Natures's Prophet\")\n",
    "        print(temp)\n",
    "    return temp\n",
    "# \n",
    "# probs_v1 = [calculate_prob_v1(predict_v2(dire_pick=pick(X_test['TEAM_0_HEROES'].iloc[i]), radiant_pick=pick(X_test['TEAM_1_HEROES'].iloc[i]))) for i in range(len(data))]\n",
    "# probs_v2 = [calculate_prob_v2(predict_v2(dire_pick=pick(X_test['TEAM_0_HEROES'].iloc[i]), radiant_pick=pick(X_test['TEAM_1_HEROES'].iloc[i]))) for i in range(len(data))]\n",
    "# \n",
    "# eval_df['label'] = data['TEAM_1_WIN']\n",
    "# eval_df['prob_v1'] = probs_v1\n",
    "# eval_df['prob_v2'] = probs_v2\n",
    "# \n",
    "# eval_df.to_csv('eval.csv', index=False)"
   ],
   "metadata": {
    "collapsed": false,
    "ExecuteTime": {
     "end_time": "2024-05-24T07:20:18.474972800Z",
     "start_time": "2024-05-24T07:20:18.457058200Z"
    }
   },
   "id": "afcaddcb65b8802e"
  },
  {
   "cell_type": "code",
   "execution_count": 30,
   "outputs": [
    {
     "name": "stdout",
     "output_type": "stream",
     "text": [
      "['Natures Prophet', 'Storm Spirit', 'Enigma', 'Skywrath Mage', 'Undying']\n",
      "['Storm Spirit', 'Enigma', 'Skywrath Mage', 'Undying', \"Natures's Prophet\"]\n",
      "['Storm Spirit', 'Enigma', 'Skywrath Mage', 'Undying', \"Natures's Prophet\"]\n"
     ]
    }
   ],
   "source": [
    "print(pick(\"[\"\"Nature's Prophet\"\", 'Storm Spirit', 'Enigma', 'Skywrath Mage', 'Undying']\"))"
   ],
   "metadata": {
    "collapsed": false,
    "ExecuteTime": {
     "end_time": "2024-05-24T07:20:19.485364500Z",
     "start_time": "2024-05-24T07:20:19.474645100Z"
    }
   },
   "id": "6c39496c94bdf692"
  },
  {
   "cell_type": "code",
   "execution_count": 31,
   "outputs": [
    {
     "name": "stdout",
     "output_type": "stream",
     "text": [
      "['Phantom Lancer', 'Storm Spirit', 'Natures Prophet', 'Skywrath Mage', 'Undying']\n",
      "['Phantom Lancer', 'Storm Spirit', 'Skywrath Mage', 'Undying', \"Natures's Prophet\"]\n",
      "['Phantom Lancer', 'Storm Spirit', 'Skywrath Mage', 'Undying', \"Natures's Prophet\"]\n"
     ]
    }
   ],
   "source": [
    "print(pick(\"['Phantom Lancer', 'Storm Spirit', \"\"Nature's Prophet\"\", 'Skywrath Mage', 'Undying']\"))"
   ],
   "metadata": {
    "collapsed": false,
    "ExecuteTime": {
     "end_time": "2024-05-24T07:21:47.912625Z",
     "start_time": "2024-05-24T07:21:47.877717600Z"
    }
   },
   "id": "f8dc5a8076329d6c"
  }
 ],
 "metadata": {
  "kernelspec": {
   "display_name": "Python 3",
   "language": "python",
   "name": "python3"
  },
  "language_info": {
   "codemirror_mode": {
    "name": "ipython",
    "version": 2
   },
   "file_extension": ".py",
   "mimetype": "text/x-python",
   "name": "python",
   "nbconvert_exporter": "python",
   "pygments_lexer": "ipython2",
   "version": "2.7.6"
  }
 },
 "nbformat": 4,
 "nbformat_minor": 5
}
